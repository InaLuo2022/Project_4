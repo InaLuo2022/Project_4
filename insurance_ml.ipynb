{
 "cells": [
  {
   "cell_type": "code",
   "execution_count": 51,
   "metadata": {},
   "outputs": [],
   "source": [
    "# Import the modules\n",
    "import numpy as np\n",
    "import pandas as pd\n",
    "from sklearn.linear_model import LinearRegression\n",
    "from sklearn.tree import DecisionTreeRegressor\n",
    "from sklearn.metrics import balanced_accuracy_score, confusion_matrix, classification_report\n",
    "import matplotlib.pyplot as plt\n",
    "# from sklearn.preprocessing import StandardScaler\n",
    "from joblib import dump"
   ]
  },
  {
   "attachments": {},
   "cell_type": "markdown",
   "metadata": {},
   "source": [
    "## Split the Data into Training and Testing Sets\n",
    "\n",
    "### Step 1: Read the `insurance_dataset.csv` data from the `Resource` folder into a Pandas DataFrame."
   ]
  },
  {
   "cell_type": "code",
   "execution_count": 52,
   "metadata": {},
   "outputs": [
    {
     "data": {
      "text/html": [
       "<div>\n",
       "<style scoped>\n",
       "    .dataframe tbody tr th:only-of-type {\n",
       "        vertical-align: middle;\n",
       "    }\n",
       "\n",
       "    .dataframe tbody tr th {\n",
       "        vertical-align: top;\n",
       "    }\n",
       "\n",
       "    .dataframe thead th {\n",
       "        text-align: right;\n",
       "    }\n",
       "</style>\n",
       "<table border=\"1\" class=\"dataframe\">\n",
       "  <thead>\n",
       "    <tr style=\"text-align: right;\">\n",
       "      <th></th>\n",
       "      <th>age</th>\n",
       "      <th>gender</th>\n",
       "      <th>bmi</th>\n",
       "      <th>children</th>\n",
       "      <th>smoker</th>\n",
       "      <th>region</th>\n",
       "      <th>medical_history</th>\n",
       "      <th>family_medical_history</th>\n",
       "      <th>exercise_frequency</th>\n",
       "      <th>occupation</th>\n",
       "      <th>coverage_level</th>\n",
       "      <th>charges</th>\n",
       "    </tr>\n",
       "  </thead>\n",
       "  <tbody>\n",
       "    <tr>\n",
       "      <th>0</th>\n",
       "      <td>46</td>\n",
       "      <td>male</td>\n",
       "      <td>21.45</td>\n",
       "      <td>5</td>\n",
       "      <td>yes</td>\n",
       "      <td>southeast</td>\n",
       "      <td>Diabetes</td>\n",
       "      <td>None</td>\n",
       "      <td>Never</td>\n",
       "      <td>Blue collar</td>\n",
       "      <td>Premium</td>\n",
       "      <td>20460.30767</td>\n",
       "    </tr>\n",
       "    <tr>\n",
       "      <th>1</th>\n",
       "      <td>25</td>\n",
       "      <td>female</td>\n",
       "      <td>25.38</td>\n",
       "      <td>2</td>\n",
       "      <td>yes</td>\n",
       "      <td>northwest</td>\n",
       "      <td>Diabetes</td>\n",
       "      <td>High blood pressure</td>\n",
       "      <td>Occasionally</td>\n",
       "      <td>White collar</td>\n",
       "      <td>Premium</td>\n",
       "      <td>20390.89922</td>\n",
       "    </tr>\n",
       "    <tr>\n",
       "      <th>2</th>\n",
       "      <td>38</td>\n",
       "      <td>male</td>\n",
       "      <td>44.88</td>\n",
       "      <td>2</td>\n",
       "      <td>yes</td>\n",
       "      <td>southwest</td>\n",
       "      <td>None</td>\n",
       "      <td>High blood pressure</td>\n",
       "      <td>Occasionally</td>\n",
       "      <td>Blue collar</td>\n",
       "      <td>Premium</td>\n",
       "      <td>20204.47630</td>\n",
       "    </tr>\n",
       "    <tr>\n",
       "      <th>3</th>\n",
       "      <td>25</td>\n",
       "      <td>male</td>\n",
       "      <td>19.89</td>\n",
       "      <td>0</td>\n",
       "      <td>no</td>\n",
       "      <td>northwest</td>\n",
       "      <td>None</td>\n",
       "      <td>Diabetes</td>\n",
       "      <td>Rarely</td>\n",
       "      <td>White collar</td>\n",
       "      <td>Standard</td>\n",
       "      <td>11789.02984</td>\n",
       "    </tr>\n",
       "    <tr>\n",
       "      <th>4</th>\n",
       "      <td>49</td>\n",
       "      <td>male</td>\n",
       "      <td>38.21</td>\n",
       "      <td>3</td>\n",
       "      <td>yes</td>\n",
       "      <td>northwest</td>\n",
       "      <td>Diabetes</td>\n",
       "      <td>High blood pressure</td>\n",
       "      <td>Rarely</td>\n",
       "      <td>White collar</td>\n",
       "      <td>Standard</td>\n",
       "      <td>19268.30984</td>\n",
       "    </tr>\n",
       "  </tbody>\n",
       "</table>\n",
       "</div>"
      ],
      "text/plain": [
       "   age  gender    bmi  children smoker     region medical_history  \\\n",
       "0   46    male  21.45         5    yes  southeast        Diabetes   \n",
       "1   25  female  25.38         2    yes  northwest        Diabetes   \n",
       "2   38    male  44.88         2    yes  southwest            None   \n",
       "3   25    male  19.89         0     no  northwest            None   \n",
       "4   49    male  38.21         3    yes  northwest        Diabetes   \n",
       "\n",
       "  family_medical_history exercise_frequency    occupation coverage_level  \\\n",
       "0                   None              Never   Blue collar        Premium   \n",
       "1    High blood pressure       Occasionally  White collar        Premium   \n",
       "2    High blood pressure       Occasionally   Blue collar        Premium   \n",
       "3               Diabetes             Rarely  White collar       Standard   \n",
       "4    High blood pressure             Rarely  White collar       Standard   \n",
       "\n",
       "       charges  \n",
       "0  20460.30767  \n",
       "1  20390.89922  \n",
       "2  20204.47630  \n",
       "3  11789.02984  \n",
       "4  19268.30984  "
      ]
     },
     "execution_count": 52,
     "metadata": {},
     "output_type": "execute_result"
    }
   ],
   "source": [
    "#  Import and read the charity_data.csv.\n",
    "insurance_raw_df = pd.read_csv(\"./Resources/insurance_dataset.csv\")\n",
    "insurance_raw_df.head()"
   ]
  },
  {
   "cell_type": "code",
   "execution_count": 53,
   "metadata": {},
   "outputs": [],
   "source": [
    "# Downsize dataframe\n",
    "# insurance_df = insurance_raw_df.loc[insurance_raw_df[\"region\"] == 'northwest']\n",
    "# insurance_df.drop(columns='region')"
   ]
  },
  {
   "cell_type": "code",
   "execution_count": 54,
   "metadata": {},
   "outputs": [
    {
     "data": {
      "text/plain": [
       "age                           48\n",
       "gender                         2\n",
       "bmi                         3201\n",
       "children                       6\n",
       "smoker                         2\n",
       "region                         4\n",
       "medical_history                4\n",
       "family_medical_history         4\n",
       "exercise_frequency             4\n",
       "occupation                     4\n",
       "coverage_level                 3\n",
       "charges                   999695\n",
       "dtype: int64"
      ]
     },
     "execution_count": 54,
     "metadata": {},
     "output_type": "execute_result"
    }
   ],
   "source": [
    "insurance_raw_df.nunique()"
   ]
  },
  {
   "attachments": {},
   "cell_type": "markdown",
   "metadata": {},
   "source": [
    "# Binning"
   ]
  },
  {
   "cell_type": "code",
   "execution_count": 55,
   "metadata": {},
   "outputs": [
    {
     "data": {
      "text/plain": [
       "None                   250762\n",
       "Heart disease          250121\n",
       "High blood pressure    249782\n",
       "Diabetes               249335\n",
       "Name: medical_history, dtype: int64"
      ]
     },
     "execution_count": 55,
     "metadata": {},
     "output_type": "execute_result"
    }
   ],
   "source": [
    "# Look at medical_history value counts for binning\n",
    "insurance_raw_df[\"medical_history\"].value_counts()"
   ]
  },
  {
   "cell_type": "code",
   "execution_count": 56,
   "metadata": {},
   "outputs": [
    {
     "data": {
      "text/plain": [
       "None                   250404\n",
       "Heart disease          250035\n",
       "High blood pressure    249824\n",
       "Diabetes               249737\n",
       "Name: family_medical_history, dtype: int64"
      ]
     },
     "execution_count": 56,
     "metadata": {},
     "output_type": "execute_result"
    }
   ],
   "source": [
    "# Look at family_medical_history value counts for binning\n",
    "insurance_raw_df['family_medical_history'].value_counts()"
   ]
  },
  {
   "cell_type": "code",
   "execution_count": 57,
   "metadata": {},
   "outputs": [
    {
     "data": {
      "text/plain": [
       "Rarely          250538\n",
       "Occasionally    250362\n",
       "Frequently      249746\n",
       "Never           249354\n",
       "Name: exercise_frequency, dtype: int64"
      ]
     },
     "execution_count": 57,
     "metadata": {},
     "output_type": "execute_result"
    }
   ],
   "source": [
    "# Look at exercise_frequency value counts for binning\n",
    "insurance_raw_df['exercise_frequency'].value_counts()"
   ]
  },
  {
   "cell_type": "code",
   "execution_count": 58,
   "metadata": {},
   "outputs": [
    {
     "data": {
      "text/plain": [
       "Unemployed      250571\n",
       "Student         250279\n",
       "Blue collar     249825\n",
       "White collar    249325\n",
       "Name: occupation, dtype: int64"
      ]
     },
     "execution_count": 58,
     "metadata": {},
     "output_type": "execute_result"
    }
   ],
   "source": [
    "# Look at occupation value counts for binning\n",
    "insurance_raw_df['occupation'].value_counts()"
   ]
  },
  {
   "cell_type": "code",
   "execution_count": 59,
   "metadata": {},
   "outputs": [
    {
     "data": {
      "text/plain": [
       "Basic       333515\n",
       "Standard    333508\n",
       "Premium     332977\n",
       "Name: coverage_level, dtype: int64"
      ]
     },
     "execution_count": 59,
     "metadata": {},
     "output_type": "execute_result"
    }
   ],
   "source": [
    "# Look at occupation coverage_level value counts for binning\n",
    "insurance_raw_df['coverage_level'].value_counts()"
   ]
  },
  {
   "cell_type": "code",
   "execution_count": 60,
   "metadata": {},
   "outputs": [
    {
     "data": {
      "text/plain": [
       "23203.51170    2\n",
       "14242.88970    2\n",
       "17804.72484    2\n",
       "19219.99252    2\n",
       "19084.89174    2\n",
       "              ..\n",
       "19540.35545    1\n",
       "16294.74663    1\n",
       "18149.64475    1\n",
       "14613.49927    1\n",
       "19600.10121    1\n",
       "Name: charges, Length: 999695, dtype: int64"
      ]
     },
     "execution_count": 60,
     "metadata": {},
     "output_type": "execute_result"
    }
   ],
   "source": [
    "insurance_raw_df['charges'].value_counts()"
   ]
  },
  {
   "cell_type": "code",
   "execution_count": 61,
   "metadata": {},
   "outputs": [
    {
     "data": {
      "text/plain": [
       "Index(['age', 'gender', 'bmi', 'children', 'smoker', 'region',\n",
       "       'medical_history', 'family_medical_history', 'exercise_frequency',\n",
       "       'occupation', 'coverage_level', 'charges'],\n",
       "      dtype='object')"
      ]
     },
     "execution_count": 61,
     "metadata": {},
     "output_type": "execute_result"
    }
   ],
   "source": [
    "insurance_raw_df.columns"
   ]
  },
  {
   "cell_type": "code",
   "execution_count": 62,
   "metadata": {},
   "outputs": [],
   "source": [
    "# Convert categorical data to numeric with `pd.get_dummies`\n",
    "# dummies_gender = pd.get_dummies(insurance_df['gender'])\n",
    "# dummies_smoker = pd.get_dummies(insurance_df['smoker'])\n",
    "# dummies_medical_history = pd.get_dummies(insurance_df['medical_history'])\n",
    "# dummies_family_medical_history = pd.get_dummies(insurance_df['family_medical_history'])\n",
    "# dummies_exercise_frequency = pd.get_dummies(insurance_df['exercise_frequency'])\n",
    "# dummies_occupation = pd.get_dummies(insurance_df['occupation'])\n",
    "# dummies_coverage_level = pd.get_dummies(insurance_df['coverage_level'])\n",
    "\n",
    "# concatenated = pd.concat([insurance_df,dummies_gender, dummies_smoker, dummies_medical_history, dummies_family_medical_history, dummies_exercise_frequency,dummies_occupation,dummies_coverage_level], axis=\"columns\")\n",
    "# concatenated.head(5)"
   ]
  },
  {
   "cell_type": "code",
   "execution_count": 63,
   "metadata": {},
   "outputs": [
    {
     "data": {
      "text/plain": [
       "Index(['age', 'bmi', 'children', 'charges', 'gender_female', 'gender_male',\n",
       "       'smoker_no', 'smoker_yes', 'region_northeast', 'region_northwest',\n",
       "       'region_southeast', 'region_southwest', 'medical_history_Diabetes',\n",
       "       'medical_history_Heart disease', 'medical_history_High blood pressure',\n",
       "       'medical_history_None', 'family_medical_history_Diabetes',\n",
       "       'family_medical_history_Heart disease',\n",
       "       'family_medical_history_High blood pressure',\n",
       "       'family_medical_history_None', 'exercise_frequency_Frequently',\n",
       "       'exercise_frequency_Never', 'exercise_frequency_Occasionally',\n",
       "       'exercise_frequency_Rarely', 'occupation_Blue collar',\n",
       "       'occupation_Student', 'occupation_Unemployed',\n",
       "       'occupation_White collar', 'coverage_level_Basic',\n",
       "       'coverage_level_Premium', 'coverage_level_Standard'],\n",
       "      dtype='object')"
      ]
     },
     "execution_count": 63,
     "metadata": {},
     "output_type": "execute_result"
    }
   ],
   "source": [
    "concatenated = pd.get_dummies(insurance_raw_df)\n",
    "concatenated.columns"
   ]
  },
  {
   "cell_type": "code",
   "execution_count": 64,
   "metadata": {},
   "outputs": [
    {
     "data": {
      "text/html": [
       "<div>\n",
       "<style scoped>\n",
       "    .dataframe tbody tr th:only-of-type {\n",
       "        vertical-align: middle;\n",
       "    }\n",
       "\n",
       "    .dataframe tbody tr th {\n",
       "        vertical-align: top;\n",
       "    }\n",
       "\n",
       "    .dataframe thead th {\n",
       "        text-align: right;\n",
       "    }\n",
       "</style>\n",
       "<table border=\"1\" class=\"dataframe\">\n",
       "  <thead>\n",
       "    <tr style=\"text-align: right;\">\n",
       "      <th></th>\n",
       "      <th>age</th>\n",
       "      <th>bmi</th>\n",
       "      <th>children</th>\n",
       "      <th>charges</th>\n",
       "      <th>gender_female</th>\n",
       "      <th>gender_male</th>\n",
       "      <th>smoker_no</th>\n",
       "      <th>smoker_yes</th>\n",
       "      <th>region_northeast</th>\n",
       "      <th>region_northwest</th>\n",
       "      <th>...</th>\n",
       "      <th>exercise_frequency_Never</th>\n",
       "      <th>exercise_frequency_Occasionally</th>\n",
       "      <th>exercise_frequency_Rarely</th>\n",
       "      <th>occupation_Blue collar</th>\n",
       "      <th>occupation_Student</th>\n",
       "      <th>occupation_Unemployed</th>\n",
       "      <th>occupation_White collar</th>\n",
       "      <th>coverage_level_Basic</th>\n",
       "      <th>coverage_level_Premium</th>\n",
       "      <th>coverage_level_Standard</th>\n",
       "    </tr>\n",
       "  </thead>\n",
       "  <tbody>\n",
       "    <tr>\n",
       "      <th>0</th>\n",
       "      <td>46</td>\n",
       "      <td>21.45</td>\n",
       "      <td>5</td>\n",
       "      <td>20460.30767</td>\n",
       "      <td>0</td>\n",
       "      <td>1</td>\n",
       "      <td>0</td>\n",
       "      <td>1</td>\n",
       "      <td>0</td>\n",
       "      <td>0</td>\n",
       "      <td>...</td>\n",
       "      <td>1</td>\n",
       "      <td>0</td>\n",
       "      <td>0</td>\n",
       "      <td>1</td>\n",
       "      <td>0</td>\n",
       "      <td>0</td>\n",
       "      <td>0</td>\n",
       "      <td>0</td>\n",
       "      <td>1</td>\n",
       "      <td>0</td>\n",
       "    </tr>\n",
       "    <tr>\n",
       "      <th>1</th>\n",
       "      <td>25</td>\n",
       "      <td>25.38</td>\n",
       "      <td>2</td>\n",
       "      <td>20390.89922</td>\n",
       "      <td>1</td>\n",
       "      <td>0</td>\n",
       "      <td>0</td>\n",
       "      <td>1</td>\n",
       "      <td>0</td>\n",
       "      <td>1</td>\n",
       "      <td>...</td>\n",
       "      <td>0</td>\n",
       "      <td>1</td>\n",
       "      <td>0</td>\n",
       "      <td>0</td>\n",
       "      <td>0</td>\n",
       "      <td>0</td>\n",
       "      <td>1</td>\n",
       "      <td>0</td>\n",
       "      <td>1</td>\n",
       "      <td>0</td>\n",
       "    </tr>\n",
       "    <tr>\n",
       "      <th>2</th>\n",
       "      <td>38</td>\n",
       "      <td>44.88</td>\n",
       "      <td>2</td>\n",
       "      <td>20204.47630</td>\n",
       "      <td>0</td>\n",
       "      <td>1</td>\n",
       "      <td>0</td>\n",
       "      <td>1</td>\n",
       "      <td>0</td>\n",
       "      <td>0</td>\n",
       "      <td>...</td>\n",
       "      <td>0</td>\n",
       "      <td>1</td>\n",
       "      <td>0</td>\n",
       "      <td>1</td>\n",
       "      <td>0</td>\n",
       "      <td>0</td>\n",
       "      <td>0</td>\n",
       "      <td>0</td>\n",
       "      <td>1</td>\n",
       "      <td>0</td>\n",
       "    </tr>\n",
       "    <tr>\n",
       "      <th>3</th>\n",
       "      <td>25</td>\n",
       "      <td>19.89</td>\n",
       "      <td>0</td>\n",
       "      <td>11789.02984</td>\n",
       "      <td>0</td>\n",
       "      <td>1</td>\n",
       "      <td>1</td>\n",
       "      <td>0</td>\n",
       "      <td>0</td>\n",
       "      <td>1</td>\n",
       "      <td>...</td>\n",
       "      <td>0</td>\n",
       "      <td>0</td>\n",
       "      <td>1</td>\n",
       "      <td>0</td>\n",
       "      <td>0</td>\n",
       "      <td>0</td>\n",
       "      <td>1</td>\n",
       "      <td>0</td>\n",
       "      <td>0</td>\n",
       "      <td>1</td>\n",
       "    </tr>\n",
       "    <tr>\n",
       "      <th>4</th>\n",
       "      <td>49</td>\n",
       "      <td>38.21</td>\n",
       "      <td>3</td>\n",
       "      <td>19268.30984</td>\n",
       "      <td>0</td>\n",
       "      <td>1</td>\n",
       "      <td>0</td>\n",
       "      <td>1</td>\n",
       "      <td>0</td>\n",
       "      <td>1</td>\n",
       "      <td>...</td>\n",
       "      <td>0</td>\n",
       "      <td>0</td>\n",
       "      <td>1</td>\n",
       "      <td>0</td>\n",
       "      <td>0</td>\n",
       "      <td>0</td>\n",
       "      <td>1</td>\n",
       "      <td>0</td>\n",
       "      <td>0</td>\n",
       "      <td>1</td>\n",
       "    </tr>\n",
       "  </tbody>\n",
       "</table>\n",
       "<p>5 rows × 31 columns</p>\n",
       "</div>"
      ],
      "text/plain": [
       "   age    bmi  children      charges  gender_female  gender_male  smoker_no  \\\n",
       "0   46  21.45         5  20460.30767              0            1          0   \n",
       "1   25  25.38         2  20390.89922              1            0          0   \n",
       "2   38  44.88         2  20204.47630              0            1          0   \n",
       "3   25  19.89         0  11789.02984              0            1          1   \n",
       "4   49  38.21         3  19268.30984              0            1          0   \n",
       "\n",
       "   smoker_yes  region_northeast  region_northwest  ...  \\\n",
       "0           1                 0                 0  ...   \n",
       "1           1                 0                 1  ...   \n",
       "2           1                 0                 0  ...   \n",
       "3           0                 0                 1  ...   \n",
       "4           1                 0                 1  ...   \n",
       "\n",
       "   exercise_frequency_Never  exercise_frequency_Occasionally  \\\n",
       "0                         1                                0   \n",
       "1                         0                                1   \n",
       "2                         0                                1   \n",
       "3                         0                                0   \n",
       "4                         0                                0   \n",
       "\n",
       "   exercise_frequency_Rarely  occupation_Blue collar  occupation_Student  \\\n",
       "0                          0                       1                   0   \n",
       "1                          0                       0                   0   \n",
       "2                          0                       1                   0   \n",
       "3                          1                       0                   0   \n",
       "4                          1                       0                   0   \n",
       "\n",
       "   occupation_Unemployed  occupation_White collar  coverage_level_Basic  \\\n",
       "0                      0                        0                     0   \n",
       "1                      0                        1                     0   \n",
       "2                      0                        0                     0   \n",
       "3                      0                        1                     0   \n",
       "4                      0                        1                     0   \n",
       "\n",
       "   coverage_level_Premium  coverage_level_Standard  \n",
       "0                       1                        0  \n",
       "1                       1                        0  \n",
       "2                       1                        0  \n",
       "3                       0                        1  \n",
       "4                       0                        1  \n",
       "\n",
       "[5 rows x 31 columns]"
      ]
     },
     "execution_count": 64,
     "metadata": {},
     "output_type": "execute_result"
    }
   ],
   "source": [
    "concatenated.head(5)"
   ]
  },
  {
   "cell_type": "code",
   "execution_count": 65,
   "metadata": {},
   "outputs": [],
   "source": [
    "# Separate the data into labels and features\n",
    "# Separate the y variable, the labels\n",
    "y = concatenated['charges']\n",
    "\n",
    "# Separate the X variable, the features\n",
    "X = concatenated.drop(columns=\"charges\")"
   ]
  },
  {
   "cell_type": "code",
   "execution_count": 66,
   "metadata": {},
   "outputs": [
    {
     "data": {
      "text/plain": [
       "Index(['age', 'bmi', 'children', 'gender_female', 'gender_male', 'smoker_no',\n",
       "       'smoker_yes', 'region_northeast', 'region_northwest',\n",
       "       'region_southeast', 'region_southwest', 'medical_history_Diabetes',\n",
       "       'medical_history_Heart disease', 'medical_history_High blood pressure',\n",
       "       'medical_history_None', 'family_medical_history_Diabetes',\n",
       "       'family_medical_history_Heart disease',\n",
       "       'family_medical_history_High blood pressure',\n",
       "       'family_medical_history_None', 'exercise_frequency_Frequently',\n",
       "       'exercise_frequency_Never', 'exercise_frequency_Occasionally',\n",
       "       'exercise_frequency_Rarely', 'occupation_Blue collar',\n",
       "       'occupation_Student', 'occupation_Unemployed',\n",
       "       'occupation_White collar', 'coverage_level_Basic',\n",
       "       'coverage_level_Premium', 'coverage_level_Standard'],\n",
       "      dtype='object')"
      ]
     },
     "execution_count": 66,
     "metadata": {},
     "output_type": "execute_result"
    }
   ],
   "source": [
    "X.columns"
   ]
  },
  {
   "cell_type": "code",
   "execution_count": 67,
   "metadata": {},
   "outputs": [
    {
     "data": {
      "text/plain": [
       "((800000, 30), (200000, 30), (800000,), (200000,))"
      ]
     },
     "execution_count": 67,
     "metadata": {},
     "output_type": "execute_result"
    }
   ],
   "source": [
    "# Import the train_test_learn module\n",
    "from sklearn.model_selection import train_test_split\n",
    "\n",
    "# Split the data using train_test_split\n",
    "# Assign a random_state of 1 to the function\n",
    "X_train, X_test, y_train, y_test = train_test_split(X, \n",
    "                                                    y, \n",
    "                                                    test_size= 0.2,\n",
    "                                                    random_state=1, \n",
    "                                                    )\n",
    "X_train.shape, X_test.shape, y_train.shape, y_test.shape"
   ]
  },
  {
   "cell_type": "code",
   "execution_count": 68,
   "metadata": {},
   "outputs": [
    {
     "name": "stdout",
     "output_type": "stream",
     "text": [
      "LinearRegression() : \n",
      "Training Data Score: 0.9957267068571238\n",
      "Testing Data Score: 0.9957190785263942\n",
      "     Prediction       Actual\n",
      "0  12378.602826  12481.06896\n",
      "1  18783.920686  18299.07199\n",
      "2  18862.831011  18846.79561\n",
      "3  21283.839914  21597.66307\n",
      "4  25182.982849  25596.72139\n",
      "\n",
      "DecisionTreeRegressor() : \n",
      "Training Data Score: 0.9999998052576735\n",
      "Testing Data Score: 0.9868358095789653\n",
      "    Prediction       Actual\n",
      "0  12325.74429  12481.06896\n",
      "1  19359.47097  18299.07199\n",
      "2  19172.32232  18846.79561\n",
      "3  21409.86323  21597.66307\n",
      "4  25362.39435  25596.72139\n",
      "\n"
     ]
    }
   ],
   "source": [
    "models = [LinearRegression(), DecisionTreeRegressor()]\n",
    "\n",
    "for i in range(2):\n",
    "\tmodels[i].fit(X_train, y_train)\n",
    "\tprint(f'{models[i]} : ')\n",
    "\tprint(f\"Training Data Score: {models[i].score(X_train, y_train)}\")\n",
    "\tprint(f\"Testing Data Score: {models[i].score(X_test, y_test)}\")\n",
    "\ttesting_predictions = models[i].predict(X_test)\n",
    "\t# Make a prediction using the testing data\n",
    "\tresults = pd.DataFrame({\"Prediction\": testing_predictions, \"Actual\": y_test}).reset_index(drop=True)\n",
    "\tprint(results.head(5))\n",
    "\tprint()"
   ]
  },
  {
   "attachments": {},
   "cell_type": "markdown",
   "metadata": {},
   "source": [
    "# Save Model"
   ]
  },
  {
   "cell_type": "code",
   "execution_count": 69,
   "metadata": {},
   "outputs": [
    {
     "data": {
      "text/plain": [
       "['model_DecisionTreeRegressor.joblib']"
      ]
     },
     "execution_count": 69,
     "metadata": {},
     "output_type": "execute_result"
    }
   ],
   "source": [
    "dump(models[0], 'model_LinearRegression.joblib')\n",
    "dump(models[1], 'model_DecisionTreeRegressor.joblib')"
   ]
  }
 ],
 "metadata": {
  "kernelspec": {
   "display_name": "PythonData",
   "language": "python",
   "name": "python3"
  },
  "language_info": {
   "codemirror_mode": {
    "name": "ipython",
    "version": 3
   },
   "file_extension": ".py",
   "mimetype": "text/x-python",
   "name": "python",
   "nbconvert_exporter": "python",
   "pygments_lexer": "ipython3",
   "version": "3.7.7"
  },
  "orig_nbformat": 4
 },
 "nbformat": 4,
 "nbformat_minor": 2
}
